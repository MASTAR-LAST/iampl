{
 "metadata": {
  "name": "geochart"
 },
 "nbformat": 3,
 "nbformat_minor": 0,
 "worksheets": [
  {
   "cells": [
    {
     "cell_type": "markdown",
     "metadata": {},
     "source": [
      "Visualizing geographical AMPL data using IPython and Google Charts\n",
      "------------------------------------------------------------------\n",
      "\n",
      "In this post I'll describe how to get geographical data from [AMPL](http://www.ampl.com) and display it in [IPython](http://ipython.org) using an interactive [Google Chart](https://developers.google.com/chart/). I'll use a simple map coloring problem implemented with [AMPL constraint programming extensions](http://www.ampl.com/NEW/LOGIC/).\n",
      "\n",
      "First install the `ampl` extension for IPython also known as [iampl](https://github.com/vitaut/iampl) if you haven't done this already. The extension is now available in the [Python Package Index](https://pypi.python.org/pypi/ampl/0.1) so you can use standard Python tools such as `pip` or `easy_install` to install it. See the [installation instructions](https://github.com/vitaut/iampl#installation) for details.\n",
      "\n",
      "Once the extension is installed you can load it in IPython:"
     ]
    },
    {
     "cell_type": "code",
     "collapsed": false,
     "input": [
      "%load_ext ampl"
     ],
     "language": "python",
     "metadata": {},
     "outputs": [],
     "prompt_number": 1
    },
    {
     "cell_type": "markdown",
     "metadata": {},
     "source": [
      "Now it is possible to write AMPL code directly in an IPython notebook using the `%%ampl` magic. The followng code declares a small map coloring model, provides some data and solves it with [Gecode](http://www.gecode.org/) (you can download the AMPL driver for Gecode from the [AMPL repository on Google Code](https://code.google.com/p/ampl/downloads/list?q=gecode)):"
     ]
    },
    {
     "cell_type": "code",
     "collapsed": false,
     "input": [
      "%%ampl\n",
      "\n",
      "param NumColors;\n",
      "\n",
      "set Countries;\n",
      "set Neighbors within {Countries, Countries};\n",
      "\n",
      "var color{Countries} integer >= 1 <= NumColors;\n",
      "\n",
      "s.t. different_colors{(c1, c2) in Neighbors}:\n",
      "  (color[c1] != color[c2]);\n",
      "\n",
      "data;\n",
      "\n",
      "param NumColors := 4;\n",
      "\n",
      "set Countries := Belgium Denmark France Germany Luxembourg Netherlands;\n",
      "\n",
      "set Neighbors :=\n",
      "  Belgium France \n",
      "  Belgium Germany \n",
      "  Belgium Netherlands\n",
      "  Belgium Luxembourg\n",
      "  Denmark Germany \n",
      "  France  Germany \n",
      "  France  Luxembourg\n",
      "  Germany Luxembourg\n",
      "  Germany Netherlands;\n",
      "\n",
      "option solver gecode;\n",
      "solve;"
     ],
     "language": "python",
     "metadata": {},
     "outputs": [
      {
       "output_type": "stream",
       "stream": "stdout",
       "text": [
        "gecode 4.0.0: "
       ]
      },
      {
       "output_type": "stream",
       "stream": "stdout",
       "text": [
        "feasible solution\n",
        "6 nodes, 0 fails\n"
       ]
      }
     ],
     "prompt_number": 2
    },
    {
     "cell_type": "markdown",
     "metadata": {},
     "source": [
      "After evaluating the above code, AMPL objects become available in IPython and can be used as regular Python objects. For example, a collection of variables `color`, which maps country names to their colors can be accessed similarly to Python's [`dict`](http://docs.python.org/3/library/stdtypes.html#mapping-types-dict):"
     ]
    },
    {
     "cell_type": "code",
     "collapsed": false,
     "input": [
      "print(color)"
     ],
     "language": "python",
     "metadata": {},
     "outputs": [
      {
       "output_type": "stream",
       "stream": "stdout",
       "text": [
        "{'Netherlands': 2.0, 'Denmark': 1.0, 'Luxembourg': 4.0, 'France': 2.0, 'Germany': 3.0, 'Belgium': 1.0}\n"
       ]
      }
     ],
     "prompt_number": 3
    },
    {
     "cell_type": "markdown",
     "metadata": {},
     "source": [
      "Now let's use Google Charts to display a colored map. `GeoChart` is a simple helper function which takes two positional arguments, a list of column names for the data table and a dictionary containing the data itself. It also takes arbitrary keyword arguments which are mapped to chart options. See the [GeoChart documentation](https://developers.google.com/chart/interactive/docs/gallery/geochart) for the list of available options."
     ]
    },
    {
     "cell_type": "code",
     "collapsed": false,
     "input": [
      "from ampl.gchart import GeoChart\n",
      "GeoChart(['Country', 'Color'], color, region=150, legend=False, height=500,\n",
      "         colorAxis={'colors': ['#ff9900', '#3366cc', '#109618', '#dc3912']})"
     ],
     "language": "python",
     "metadata": {},
     "outputs": [
      {
       "javascript": [
        "$.getScript(\"https://www.google.com/jsapi\", function () {\n",
        "\n",
        "        container.show();\n",
        "        function draw() {\n",
        "          var chart = new google.visualization.GeoChart(element[0]);\n",
        "          chart.draw(google.visualization.arrayToDataTable([['Country', 'Color'],\n",
        "['Netherlands', 2.0],\n",
        "['Denmark', 1.0],\n",
        "['Luxembourg', 4.0],\n",
        "['France', 2.0],\n",
        "['Germany', 3.0],\n",
        "['Belgium', 1.0],\n",
        "]), {region:150,\n",
        "colorAxis:{colors: ['#ff9900', '#3366cc', '#109618', '#dc3912'],},\n",
        "legend:false,\n",
        "height:500,\n",
        "});\n",
        "        }\n",
        "        google.load('visualization', '1.0', {'callback': draw, 'packages':['geochart']});\n",
        "        });\n"
       ],
       "output_type": "pyout",
       "prompt_number": 4,
       "text": [
        "<IPython.core.display.Javascript at 0x29d1a50>"
       ]
      }
     ],
     "prompt_number": 4
    },
    {
     "cell_type": "markdown",
     "metadata": {},
     "source": [
      "Here's the full implementation of the `GeoChart` function from the `ampl.gchart` package included in the distribution:\n",
      "\n",
      "    def GeoChart(keys, data, **kwargs):\n",
      "        table = \"{},\\n\".format(keys)\n",
      "        for i in data:\n",
      "            table += \"['{}', {}],\\n\".format(i, data[i])\n",
      "        options = \"\"\n",
      "        for arg, value in kwargs.iteritems():\n",
      "            if isinstance(value, bool):\n",
      "                value = 'true' if value else 'false'\n",
      "            elif isinstance(value, dict):\n",
      "                items = \"\"\n",
      "                for k, v in value.iteritems():\n",
      "                    items += \"{}: {},\".format(k, v)\n",
      "                value = \"{{{}}}\".format(items)\n",
      "            options += \"{}:{},\\n\".format(arg, value)\n",
      "        return Javascript(\"\"\"\n",
      "            container.show();\n",
      "            function draw() {{\n",
      "              var chart = new google.visualization.GeoChart(element[0]);\n",
      "              chart.draw(google.visualization.arrayToDataTable([{}]), {{{}}});\n",
      "            }}\n",
      "            google.load('visualization', '1.0', {{'callback': draw, 'packages':['geochart']}});\n",
      "            \"\"\".format(table, options), lib=\"https://www.google.com/jsapi\")\n",
      "\n",
      "As you can see the implementation is very simple, all it does is converting the data and options passed as arguments into JavaScript and returning the result as a Javascript object that is processed by IPython. In fact, you could construct the Javascript object directly but it would be much less convenient.\n",
      "\n",
      "With little effort it is possible to create similar wrappers for other types of charts from the Google Chart library or even different Javascript libraries."
     ]
    }
   ],
   "metadata": {}
  }
 ]
}
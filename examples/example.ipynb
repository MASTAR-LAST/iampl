{
 "metadata": {
  "name": "example"
 },
 "nbformat": 3,
 "nbformat_minor": 0,
 "worksheets": [
  {
   "cells": [
    {
     "cell_type": "code",
     "collapsed": false,
     "input": [
      "%load_ext ampl"
     ],
     "language": "python",
     "metadata": {},
     "outputs": [],
     "prompt_number": 1
    },
    {
     "cell_type": "code",
     "collapsed": false,
     "input": [
      "%%ampl\n",
      "reset;\n",
      "\n",
      "set Plants;\n",
      "set Markets;\n",
      "\n",
      "# Capacity of plant p in cases\n",
      "param Capacity{p in Plants};\n",
      "\n",
      "# Demand at market m in cases\n",
      "param Demand{m in Markets};\n",
      "\n",
      "# Distance in thousands of miles\n",
      "param Distance{Plants, Markets};\n",
      "\n",
      "# Freight in dollars per case per thousand miles\n",
      "param Freight;\n",
      "\n",
      "# Transport cost in thousands of dollars per case\n",
      "param TransportCost{p in Plants, m in Markets} :=\n",
      "    Freight * Distance[p, m] / 1000; \n",
      "\n",
      "# Shipment quantities in cases\n",
      "var shipment{Plants, Markets} >= 0;\n",
      "\n",
      "# Total transportation costs in thousands of dollars\n",
      "minimize cost:\n",
      "    sum{p in Plants, m in Markets} TransportCost[p, m] * shipment[p, m];\n",
      "\n",
      "# Observe supply limit at plant p\n",
      "s.t. supply{p in Plants}: sum{m in Markets} shipment[p, m] <= Capacity[p];\n",
      "\n",
      "# Satisfy demand at market m\n",
      "s.t. demand{m in Markets}: sum{p in Plants} shipment[p, m] >= Demand[m];\n",
      "\n",
      "data;\n",
      "\n",
      "set Plants := seattle san-diego;\n",
      "set Markets := new-york chicago topeka;\n",
      "\n",
      "param Capacity :=\n",
      "    seattle   350\n",
      "    san-diego 600;\n",
      "\n",
      "param Demand :=\n",
      "    new-york 325\n",
      "    chicago  300\n",
      "    topeka   275;\n",
      "\n",
      "param Distance : new-york chicago topeka :=\n",
      "    seattle        2.5      1.7     1.8\n",
      "    san-diego      2.5      1.8     1.4;\n",
      "\n",
      "param Freight := 90;\n",
      "\n",
      "solve;"
     ],
     "language": "python",
     "metadata": {},
     "outputs": [
      {
       "output_type": "stream",
       "stream": "stdout",
       "text": [
        "MINOS 5.51: "
       ]
      },
      {
       "output_type": "stream",
       "stream": "stdout",
       "text": [
        "optimal solution found.\n",
        "4 iterations, objective 153.675\n"
       ]
      }
     ],
     "prompt_number": 2
    },
    {
     "cell_type": "code",
     "collapsed": false,
     "input": [
      "# Indexed AMPL parameters, variables, constraints, etc. act as\n",
      "# Python dictionaries.\n",
      "for s in shipment:\n",
      "    print(s, shipment[s])"
     ],
     "language": "python",
     "metadata": {},
     "outputs": [
      {
       "output_type": "stream",
       "stream": "stdout",
       "text": [
        "('seattle', 'topeka') 0.0\n",
        "('seattle', 'chicago') 300.0\n",
        "('san-diego', 'topeka') 275.0\n",
        "('san-diego', 'chicago') 0.0\n",
        "('san-diego', 'new-york') 275.0\n",
        "('seattle', 'new-york') 50.0\n"
       ]
      }
     ],
     "prompt_number": 3
    },
    {
     "cell_type": "code",
     "collapsed": false,
     "input": [
      "# It is easy to visualize the data using matplotlib.\n",
      "s = shipment.val\n",
      "pos = arange(len(s))\n",
      "barh(pos, s.values(), align='center')\n",
      "yticks(pos, list(s.keys()))\n",
      "show()"
     ],
     "language": "python",
     "metadata": {},
     "outputs": [
      {
       "metadata": {},
       "output_type": "display_data",
       "png": "[encoded data removed]",
       "text": [
        "<matplotlib.figure.Figure at 0x7fdc15bda278>"
       ]
      }
     ],
     "prompt_number": 4
    },
    {
     "cell_type": "code",
     "collapsed": false,
     "input": [],
     "language": "python",
     "metadata": {},
     "outputs": []
    }
   ],
   "metadata": {}
  }
 ]
}